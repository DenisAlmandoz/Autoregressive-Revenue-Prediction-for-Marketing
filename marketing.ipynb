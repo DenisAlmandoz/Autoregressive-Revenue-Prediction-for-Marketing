{
 "cells": [
  {
   "cell_type": "code",
   "execution_count": null,
   "metadata": {},
   "outputs": [],
   "source": [
    "import pandas as pd\n",
    "import numpy as np\n",
    "import matplotlib.pyplot as plt\n",
    "import seaborn as sns\n",
    "import statsmodels.api as sm\n",
    "from statsmodels.tsa.ar_model import AutoReg\n",
    "from sklearn.metrics import mean_absolute_error, mean_squared_error"
   ]
  },
  {
   "cell_type": "code",
   "execution_count": null,
   "metadata": {},
   "outputs": [],
   "source": [
    "def plot_boxplots(dataframe):\n",
    "    \"\"\"\n",
    "    Plot boxplots for each column in the dataframe\n",
    "    \"\"\"\n",
    "    columns = dataframe.columns\n",
    "    fig, axes = plt.subplots(nrows=len(columns), figsize=(12, 6 * len(columns)))\n",
    "    for i, column in enumerate(columns):\n",
    "        ax = axes[i]\n",
    "        ax.boxplot(dataframe[column])\n",
    "        ax.set_title(f\"Boxplot of {column}\")\n",
    "        ax.set_ylabel(\"Values\")\n",
    "    plt.tight_layout()\n",
    "    plt.show()\n"
   ]
  },
  {
   "cell_type": "code",
   "execution_count": null,
   "metadata": {},
   "outputs": [],
   "source": [
    "def test_stationarity(data, target_column):\n",
    "    \"\"\"\n",
    "    Checks the stationarity of the time series\n",
    "    \"\"\"\n",
    "    target_series = data[target_column]\n",
    "    test_name = \"\"\n",
    "    is_stationary = None\n",
    "\n",
    "    # Augmented Dickey-Fuller Test (ADF)\n",
    "    result = sm.tsa.adfuller(target_series)\n",
    "    print('ADF Test Statistic:', result[0])\n",
    "    print('p-value:', result[1])\n",
    "    print('Critical Values:', result[4])\n",
    "    if result[1] < 0.05:\n",
    "        is_stationary = True\n",
    "        test_name = \"Augmented Dickey-Fuller (ADF)\"\n",
    "\n",
    "    # KPSS Test\n",
    "    if is_stationary is None:\n",
    "        result = sm.tsa.kpss(target_series)\n",
    "        print('KPSS Test Statistic:', result[0])\n",
    "        print('p-value:', result[1])\n",
    "        print('Critical Values:', result[3])\n",
    "        if result[1] < 0.05:\n",
    "            is_stationary = False\n",
    "            test_name = \"KPSS\"\n",
    "\n",
    "    value = \"\" if is_stationary else \"not \"\n",
    "    message = f\"The time series is {value}stationary according to the {test_name} test with p-value={result[1]}\"\n",
    "    return message"
   ]
  },
  {
   "cell_type": "code",
   "execution_count": null,
   "metadata": {},
   "outputs": [],
   "source": [
    "def train_val_test_split(dataframe, tr_size=0.8, vl_size=0.1, ts_size=0.1):\n",
    "    \"\"\"\n",
    "    Split the dataframe into train, validation, and test sets\n",
    "    \"\"\"\n",
    "    N = dataframe.shape[0]\n",
    "    Ntrain = int(tr_size * N)\n",
    "    Nval = int(vl_size * N)\n",
    "    Ntst = N - Ntrain - Nval\n",
    "\n",
    "    train = dataframe[:Ntrain]\n",
    "    val = dataframe[Ntrain:Ntrain+Nval]\n",
    "    test = dataframe[Ntrain+Nval:]\n",
    "\n",
    "    return train, val, test"
   ]
  },
  {
   "cell_type": "code",
   "execution_count": null,
   "metadata": {},
   "outputs": [],
   "source": [
    "def evaluate_time_series_forecast(serie, train, val, test):\n",
    "    \"\"\"\n",
    "    Evaluate the time series forecast using AutoRegressive model\n",
    "    \"\"\"\n",
    "    best_lags = None\n",
    "    best_score = float('inf')\n",
    "    for lags in range(1, 14):\n",
    "        model = AutoReg(train, lags=lags)\n",
    "        model_fit = model.fit()\n",
    "        yhat = model_fit.predict(start=len(train), end=len(train) + len(val) - 1)\n",
    "        mae = mean_absolute_error(val, yhat)\n",
    "        mse = mean_squared_error(val, yhat)\n",
    "        rmse = np.sqrt(mse)\n",
    "        score = mae + mse + rmse\n",
    "        if score < best_score:\n",
    "            best_score = score\n",
    "            best_lags = lags\n",
    "\n",
    "    model = AutoReg(serie, lags=best_lags)\n",
    "    model_fit = model.fit()\n",
    "    start_idx = len(serie)\n",
    "    end_idx = start_idx + 6\n",
    "    forecast = model_fit.predict(start=start_idx, end=end_idx)\n",
    "\n",
    "    fig, ax = plt.subplots(figsize=(17, 10))\n",
    "    ax.plot(train.index, train, color='blue', label='Train')\n",
    "    ax.plot(val.index, val, color='orange', label='Validation')\n",
    "    ax.plot(test.index, test, color='green', label='Test')\n",
    "    forecast_index = pd.date_range(start=test.index[-1] + pd.DateOffset(1), periods=len(forecast))\n",
    "    ax.plot(forecast_index, forecast, color='red', label='Forecasted Revenue')\n",
    "    ax.set_xlabel('Time')\n",
    "    ax.set_ylabel('Revenue')\n",
    "    ax.set_title('Existing Sales, Train & Test Data, and Forecasted Revenue')\n",
    "    ax.legend()\n",
    "    plt.show()\n",
    "\n",
    "    model = AutoReg(train, lags=best_lags)\n",
    "    model_fit = model.fit()\n",
    "    yhat = model_fit.predict(start=len(train), end=len(train) + len(val) - 1)\n",
    "    mae = mean_absolute_error(val, yhat)\n",
    "    mse = mean_squared_error(val, yhat)\n",
    "    rmse = np.sqrt(mse)\n",
    "\n",
    "    data_out = [['MAE', mae],\n",
    "                ['MSE', mse],\n",
    "                ['RMSE', rmse]]\n",
    "\n",
    "    return data_out"
   ]
  },
  {
   "cell_type": "code",
   "execution_count": null,
   "metadata": {},
   "outputs": [],
   "source": [
    "# Loading data\n",
    "data = pd.read_csv('Marketing Raw Data.csv')\n",
    "\n"
   ]
  },
  {
   "cell_type": "code",
   "execution_count": null,
   "metadata": {},
   "outputs": [],
   "source": [
    "# Exploratory Data Analysis\n",
    "\n",
    "# Distribution of revenues\n",
    "plt.figure(figsize=(12, 10))\n",
    "sns.histplot(data['Revenue'], bins=64, kde=True)\n",
    "plt.xlabel('Revenues')\n",
    "plt.ylabel('Frequency')\n",
    "plt.title('Distribution of Revenues')\n",
    "plt.show()\n",
    "\n"
   ]
  },
  {
   "cell_type": "code",
   "execution_count": null,
   "metadata": {},
   "outputs": [],
   "source": [
    "# Revenues by week\n",
    "plt.figure(figsize=(12, 10))\n",
    "sns.lineplot(x='Week_ID', y='Revenue', data=data, hue='Promo')\n",
    "plt.show()\n"
   ]
  },
  {
   "cell_type": "code",
   "execution_count": null,
   "metadata": {},
   "outputs": [],
   "source": [
    "# Revenues by month\n",
    "plt.figure(figsize=(12, 10))\n",
    "sns.lineplot(x='Month_ID', y='Revenue', data=data, hue='Promo')\n",
    "plt.show()"
   ]
  },
  {
   "cell_type": "code",
   "execution_count": null,
   "metadata": {},
   "outputs": [],
   "source": [
    "# Revenues by month and day\n",
    "plt.figure(figsize=(20, 12))\n",
    "sns.barplot(x='Month_ID', y='Revenue', data=data, hue='Day_Name')\n",
    "plt.show()"
   ]
  },
  {
   "cell_type": "code",
   "execution_count": null,
   "metadata": {},
   "outputs": [],
   "source": [
    "# Visitors\n",
    "data.groupby('Week_ID').sum()['Visitors'].plot(kind=\"bar\")\n",
    "data.groupby('Month_ID').sum()['Visitors'].plot(kind=\"bar\")\n",
    "data.groupby('Year').sum()['Visitors'].plot(kind=\"bar\")\n"
   ]
  },
  {
   "cell_type": "code",
   "execution_count": null,
   "metadata": {},
   "outputs": [],
   "source": [
    "\n",
    "# Marketing expenses\n",
    "data.groupby('Week_ID').sum()['Marketing Spend'].plot(kind=\"bar\")\n",
    "data.groupby('Month_ID').sum()['Marketing Spend'].plot(kind=\"bar\")\n",
    "data.groupby('Year').sum()['Marketing Spend'].plot(kind=\"bar\")\n",
    "\n"
   ]
  },
  {
   "cell_type": "code",
   "execution_count": null,
   "metadata": {},
   "outputs": [],
   "source": [
    "# Time Series Analysis\n",
    "\n",
    "# Set date as index\n",
    "data['Date'] = pd.to_datetime(data['Date'], format=\"%d/%m/%Y\")\n",
    "data.set_index('Date', inplace=True)\n"
   ]
  },
  {
   "cell_type": "code",
   "execution_count": null,
   "metadata": {},
   "outputs": [],
   "source": [
    "\n",
    "# Divide the dataset\n",
    "endogenous_cols = ['Revenue', 'Visitors', 'Marketing Spend']\n",
    "exogenous_cols = ['Revenue']\n",
    "endogenous_data = data[endogenous_cols]\n",
    "exogenous_data = data[exogenous_cols]\n"
   ]
  },
  {
   "cell_type": "code",
   "execution_count": null,
   "metadata": {},
   "outputs": [],
   "source": [
    "\n",
    "# Plot boxplots to check for outliers\n",
    "plot_boxplots(endogenous_data)\n",
    "\n"
   ]
  },
  {
   "cell_type": "code",
   "execution_count": null,
   "metadata": {},
   "outputs": [],
   "source": [
    "# Check skewness of endogenous variables\n",
    "for column in endogenous_data.columns:\n",
    "    skewness = endogenous_data[column].skew()\n",
    "    print(f\"Skewness of column '{column}': {skewness:.4f}\")\n",
    "\n"
   ]
  },
  {
   "cell_type": "code",
   "execution_count": null,
   "metadata": {},
   "outputs": [],
   "source": [
    "# Test stationarity of endogenous variable (Revenue)\n",
    "stationarity_message = test_stationarity(endogenous_data, 'Revenue')\n",
    "print(stationarity_message)\n",
    "\n"
   ]
  },
  {
   "cell_type": "code",
   "execution_count": null,
   "metadata": {},
   "outputs": [],
   "source": [
    "# Split the dataset into train, validation, and test sets\n",
    "train, val, test = train_val_test_split(endogenous_data)\n",
    "\n"
   ]
  },
  {
   "cell_type": "code",
   "execution_count": null,
   "metadata": {},
   "outputs": [],
   "source": [
    "# Plot the time series\n",
    "plt.plot(train.index, train['Revenue'], color='blue', label='Train')\n",
    "plt.plot(val.index, val['Revenue'], color='orange', label='Validation')\n",
    "plt.plot(test.index, test['Revenue'], color='green', label='Test')\n",
    "plt.xlabel('Time')\n",
    "plt.ylabel('Revenue')\n",
    "plt.title('Time Series with Train, Validation, and Test Sets')\n",
    "plt.legend()\n",
    "plt.show()\n",
    "\n"
   ]
  },
  {
   "cell_type": "code",
   "execution_count": null,
   "metadata": {},
   "outputs": [],
   "source": [
    "# Evaluate time series forecast\n",
    "evaluation_results = evaluate_time_series_forecast(endogenous_data['Revenue'], train['Revenue'], val['Revenue'], test['Revenue'])\n",
    "evaluation_df = pd.DataFrame(evaluation_results, columns=['Metric', 'Value'])\n",
    "print(evaluation_df)"
   ]
  }
 ],
 "metadata": {
  "language_info": {
   "name": "python"
  },
  "orig_nbformat": 4
 },
 "nbformat": 4,
 "nbformat_minor": 2
}
